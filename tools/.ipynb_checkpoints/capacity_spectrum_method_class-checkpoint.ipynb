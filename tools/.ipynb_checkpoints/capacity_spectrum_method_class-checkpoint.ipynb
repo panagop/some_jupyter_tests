{
 "cells": [
  {
   "cell_type": "markdown",
   "metadata": {},
   "source": [
    "# ATC40 - Capacity Spectrum Method"
   ]
  },
  {
   "cell_type": "code",
   "execution_count": 1,
   "metadata": {},
   "outputs": [],
   "source": [
    "import math\n",
    "import numpy as np\n",
    "import pandas as pd\n",
    "import matplotlib.pyplot as plt\n",
    "import seaborn as sns\n",
    "sns.set_style(\"whitegrid\")\n",
    "\n",
    "from streng.tools.bilin import Bilin\n",
    "import streng.codes.eurocodes.ec8.cls.seismic_action.spectra as spec_ec8\n",
    "from streng.codes.usa.atc40.cls.nl_static_analysis.csm import CapacitySpectrumMethod\n",
    "from streng.codes.usa.atc40.cls.nl_static_analysis.csm import StructureProperties\n",
    "from streng.codes.usa.atc40.cls.nl_static_analysis.csm import Demand"
   ]
  },
  {
   "cell_type": "code",
   "execution_count": 2,
   "metadata": {},
   "outputs": [],
   "source": [
    "bl = Bilin()\n",
    "# bl.load_space_delimited(r'D:/MyBooks/TEI/RepairsExample/sapfiles/fema/PushoverCurve_modal.pushcurve', ' ')\n",
    "bl.curve_ini.load_delimited(r'http://seivas.net/mkd/PushoverCurve_modal.pushcurve', ' ')\n",
    "\n",
    "mystructure = StructureProperties(m = np.array([39.08, 39.08, 39.08]),\n",
    "                                  φ = np.array([0.0483, 0.0920, 0.1217]),\n",
    "                                  T0 = 0.753,\n",
    "                                  pushover_curve_F = bl.curve_ini.y,\n",
    "                                  pushover_curve_δ = bl.curve_ini.x,\n",
    "                                  behavior ='A')"
   ]
  },
  {
   "cell_type": "code",
   "execution_count": 3,
   "metadata": {},
   "outputs": [],
   "source": [
    "T_range = np.linspace(1e-10, 4, 401)\n",
    "\n",
    "mydemand = Demand(T_range=T_range,\n",
    "                  Sa=None,\n",
    "                  Sd=None,\n",
    "                  TC=None)\n",
    "\n",
    "mydemand.ec8_elastic(αgR=0.24*9.81,\n",
    "                          γI=1.0,\n",
    "                          ground_type = 'C',\n",
    "                          spectrum_type = 1,\n",
    "                          η =1.0,\n",
    "                          q=1.0,\n",
    "                          β=0.2)"
   ]
  },
  {
   "cell_type": "code",
   "execution_count": 4,
   "metadata": {},
   "outputs": [],
   "source": [
    "mycsm = CapacitySpectrumMethod(structure = mystructure,\n",
    "                               demand = mydemand,\n",
    "                               first_try_case = 'intersection')"
   ]
  },
  {
   "cell_type": "code",
   "execution_count": 5,
   "metadata": {},
   "outputs": [
    {
     "name": "stdout",
     "output_type": "stream",
     "text": [
      "PF1 = 10.2313\n",
      "α1 = 0.8935\n",
      "φroof1 = 0.1217\n"
     ]
    }
   ],
   "source": [
    "print(f'PF1 = {mycsm.structure.PF1:.4f}')\n",
    "print(f'α1 = {mycsm.structure.α1:.4f}')\n",
    "print(f'φroof1 = {mycsm.structure.φroof1:.4f}')"
   ]
  },
  {
   "cell_type": "code",
   "execution_count": 6,
   "metadata": {},
   "outputs": [
    {
     "data": {
      "image/png": "[encoded data removed]",
      "text/plain": [
       "<Figure size 432x288 with 1 Axes>"
      ]
     },
     "metadata": {
      "needs_background": "light"
     },
     "output_type": "display_data"
    }
   ],
   "source": [
    "plt.plot(mycsm.structure.Sd, mycsm.structure.Sa)\n",
    "plt.ylabel('$F$ (kN)') \n",
    "plt.xlabel('$δ$ (m)') #'μθpl'  \n",
    "plt.title('Καμπύλη αντίστασης')\n",
    "plt.show()"
   ]
  },
  {
   "cell_type": "code",
   "execution_count": 10,
   "metadata": {},
   "outputs": [
    {
     "data": {
      "image/png": "[encoded data removed]",
      "text/plain": [
       "<Figure size 432x288 with 1 Axes>"
      ]
     },
     "metadata": {
      "needs_background": "light"
     },
     "output_type": "display_data"
    }
   ],
   "source": [
    "plt.plot(mycsm.demand.Sd, mycsm.demand.Sa, lw=2, label='Sa-Sd')\n",
    "plt.ylabel('$S_{a}$ (g)') \n",
    "plt.xlabel('$S_{d}$ (m)') \n",
    "plt.title('EC8 elastic spectrum: Sa-Sd')\n",
    "plt.legend()\n",
    "plt.show()"
   ]
  },
  {
   "cell_type": "code",
   "execution_count": 9,
   "metadata": {},
   "outputs": [
    {
     "name": "stdout",
     "output_type": "stream",
     "text": [
      "0.13938832648876784\n"
     ]
    }
   ],
   "source": [
    "print(mycsm.Sd_first_try)"
   ]
  },
  {
   "cell_type": "code",
   "execution_count": 7,
   "metadata": {},
   "outputs": [
    {
     "name": "stdout",
     "output_type": "stream",
     "text": [
      "solution: Sd = 0.0602m\n"
     ]
    }
   ],
   "source": [
    "mycsm.calc_performance_point()"
   ]
  },
  {
   "cell_type": "code",
   "execution_count": 8,
   "metadata": {},
   "outputs": [
    {
     "name": "stdout",
     "output_type": "stream",
     "text": [
      "|   __iteration |        Sd |     error |\n",
      "|------------:|----------:|----------:|\n",
      "|           0 | 1.394E-01 |           |\n",
      "|           1 | 4.362E-02 | 6.871E-01 |\n",
      "|           2 | 8.555E-02 | 9.613E-01 |\n",
      "|           3 | 4.935E-02 | 4.231E-01 |\n",
      "|           4 | 7.295E-02 | 4.782E-01 |\n",
      "|           5 | 5.353E-02 | 2.662E-01 |\n",
      "|           6 | 6.627E-02 | 2.379E-01 |\n",
      "|           7 | 5.675E-02 | 1.437E-01 |\n",
      "|           8 | 6.270E-02 | 1.049E-01 |\n",
      "|           9 | 5.864E-02 | 6.475E-02 |\n",
      "|          10 | 6.121E-02 | 4.377E-02 |\n",
      "|          11 | 5.950E-02 | 2.792E-02 |\n",
      "|          12 | 6.060E-02 | 1.849E-02 |\n",
      "|          13 | 5.987E-02 | 1.195E-02 |\n",
      "|          14 | 6.034E-02 | 7.845E-03 |\n",
      "|          15 | 6.004E-02 | 5.097E-03 |\n",
      "|          16 | 6.024E-02 | 3.327E-03 |\n",
      "|          17 | 6.011E-02 | 2.163E-03 |\n",
      "|          18 | 6.019E-02 | 1.409E-03 |\n",
      "|          19 | 6.013E-02 | 9.161E-04 |\n",
      "|          20 | 6.017E-02 | 5.964E-04 |\n",
      "|          21 | 6.015E-02 | 3.880E-04 |\n",
      "|          22 | 6.016E-02 | 2.525E-04 |\n",
      "|          23 | 6.015E-02 | 1.643E-04 |\n",
      "|          24 | 6.016E-02 | 1.069E-04 |\n",
      "|          25 | 6.015E-02 | 6.955E-05 |\n"
     ]
    }
   ],
   "source": [
    "print(mycsm.output.to_markdown)"
   ]
  },
  {
   "cell_type": "code",
   "execution_count": 11,
   "metadata": {},
   "outputs": [],
   "source": [
    "mycsm.first_try_case = 'equal displacements'"
   ]
  },
  {
   "cell_type": "code",
   "execution_count": 12,
   "metadata": {},
   "outputs": [
    {
     "name": "stdout",
     "output_type": "stream",
     "text": [
      "solution: Sd = 0.0602m\n"
     ]
    }
   ],
   "source": [
    "mycsm.calc_performance_point()"
   ]
  },
  {
   "cell_type": "code",
   "execution_count": 13,
   "metadata": {},
   "outputs": [
    {
     "data": {
      "text/html": [
       "<div>\n",
       "<style scoped>\n",
       "    .dataframe tbody tr th:only-of-type {\n",
       "        vertical-align: middle;\n",
       "    }\n",
       "\n",
       "    .dataframe tbody tr th {\n",
       "        vertical-align: top;\n",
       "    }\n",
       "\n",
       "    .dataframe thead th {\n",
       "        text-align: right;\n",
       "    }\n",
       "</style>\n",
       "<table border=\"1\" class=\"dataframe\">\n",
       "  <thead>\n",
       "    <tr style=\"text-align: right;\">\n",
       "      <th></th>\n",
       "      <th>__iteration</th>\n",
       "      <th>Sd</th>\n",
       "      <th>error</th>\n",
       "    </tr>\n",
       "  </thead>\n",
       "  <tbody>\n",
       "    <tr>\n",
       "      <th>0</th>\n",
       "      <td>0</td>\n",
       "      <td>0.077466</td>\n",
       "      <td>NaN</td>\n",
       "    </tr>\n",
       "    <tr>\n",
       "      <th>1</th>\n",
       "      <td>1</td>\n",
       "      <td>0.051766</td>\n",
       "      <td>0.331765</td>\n",
       "    </tr>\n",
       "    <tr>\n",
       "      <th>2</th>\n",
       "      <td>2</td>\n",
       "      <td>0.068702</td>\n",
       "      <td>0.327165</td>\n",
       "    </tr>\n",
       "    <tr>\n",
       "      <th>3</th>\n",
       "      <td>3</td>\n",
       "      <td>0.055599</td>\n",
       "      <td>0.190713</td>\n",
       "    </tr>\n",
       "    <tr>\n",
       "      <th>4</th>\n",
       "      <td>4</td>\n",
       "      <td>0.063828</td>\n",
       "      <td>0.148007</td>\n",
       "    </tr>\n",
       "    <tr>\n",
       "      <th>5</th>\n",
       "      <td>5</td>\n",
       "      <td>0.058016</td>\n",
       "      <td>0.091057</td>\n",
       "    </tr>\n",
       "    <tr>\n",
       "      <th>6</th>\n",
       "      <td>6</td>\n",
       "      <td>0.061673</td>\n",
       "      <td>0.063023</td>\n",
       "    </tr>\n",
       "    <tr>\n",
       "      <th>7</th>\n",
       "      <td>7</td>\n",
       "      <td>0.059221</td>\n",
       "      <td>0.039762</td>\n",
       "    </tr>\n",
       "    <tr>\n",
       "      <th>8</th>\n",
       "      <td>8</td>\n",
       "      <td>0.060791</td>\n",
       "      <td>0.026514</td>\n",
       "    </tr>\n",
       "    <tr>\n",
       "      <th>9</th>\n",
       "      <td>9</td>\n",
       "      <td>0.059753</td>\n",
       "      <td>0.017068</td>\n",
       "    </tr>\n",
       "    <tr>\n",
       "      <th>10</th>\n",
       "      <td>10</td>\n",
       "      <td>0.060424</td>\n",
       "      <td>0.011236</td>\n",
       "    </tr>\n",
       "    <tr>\n",
       "      <th>11</th>\n",
       "      <td>11</td>\n",
       "      <td>0.059984</td>\n",
       "      <td>0.007290</td>\n",
       "    </tr>\n",
       "    <tr>\n",
       "      <th>12</th>\n",
       "      <td>12</td>\n",
       "      <td>0.060270</td>\n",
       "      <td>0.004768</td>\n",
       "    </tr>\n",
       "    <tr>\n",
       "      <th>13</th>\n",
       "      <td>13</td>\n",
       "      <td>0.060083</td>\n",
       "      <td>0.003100</td>\n",
       "    </tr>\n",
       "    <tr>\n",
       "      <th>14</th>\n",
       "      <td>14</td>\n",
       "      <td>0.060205</td>\n",
       "      <td>0.002021</td>\n",
       "    </tr>\n",
       "    <tr>\n",
       "      <th>15</th>\n",
       "      <td>15</td>\n",
       "      <td>0.060125</td>\n",
       "      <td>0.001313</td>\n",
       "    </tr>\n",
       "    <tr>\n",
       "      <th>16</th>\n",
       "      <td>16</td>\n",
       "      <td>0.060177</td>\n",
       "      <td>0.000855</td>\n",
       "    </tr>\n",
       "    <tr>\n",
       "      <th>17</th>\n",
       "      <td>17</td>\n",
       "      <td>0.060143</td>\n",
       "      <td>0.000556</td>\n",
       "    </tr>\n",
       "    <tr>\n",
       "      <th>18</th>\n",
       "      <td>18</td>\n",
       "      <td>0.060165</td>\n",
       "      <td>0.000362</td>\n",
       "    </tr>\n",
       "    <tr>\n",
       "      <th>19</th>\n",
       "      <td>19</td>\n",
       "      <td>0.060151</td>\n",
       "      <td>0.000236</td>\n",
       "    </tr>\n",
       "    <tr>\n",
       "      <th>20</th>\n",
       "      <td>20</td>\n",
       "      <td>0.060160</td>\n",
       "      <td>0.000153</td>\n",
       "    </tr>\n",
       "    <tr>\n",
       "      <th>21</th>\n",
       "      <td>21</td>\n",
       "      <td>0.060154</td>\n",
       "      <td>0.000100</td>\n",
       "    </tr>\n",
       "  </tbody>\n",
       "</table>\n",
       "</div>"
      ],
      "text/plain": [
       "    __iteration        Sd     error\n",
       "0           0  0.077466       NaN\n",
       "1           1  0.051766  0.331765\n",
       "2           2  0.068702  0.327165\n",
       "3           3  0.055599  0.190713\n",
       "4           4  0.063828  0.148007\n",
       "5           5  0.058016  0.091057\n",
       "6           6  0.061673  0.063023\n",
       "7           7  0.059221  0.039762\n",
       "8           8  0.060791  0.026514\n",
       "9           9  0.059753  0.017068\n",
       "10         10  0.060424  0.011236\n",
       "11         11  0.059984  0.007290\n",
       "12         12  0.060270  0.004768\n",
       "13         13  0.060083  0.003100\n",
       "14         14  0.060205  0.002021\n",
       "15         15  0.060125  0.001313\n",
       "16         16  0.060177  0.000855\n",
       "17         17  0.060143  0.000556\n",
       "18         18  0.060165  0.000362\n",
       "19         19  0.060151  0.000236\n",
       "20         20  0.060160  0.000153\n",
       "21         21  0.060154  0.000100"
      ]
     },
     "execution_count": 13,
     "metadata": {},
     "output_type": "execute_result"
    }
   ],
   "source": [
    "mycsm.output.to_panda_dataframe"
   ]
  }
 ],
 "metadata": {
  "kernelspec": {
   "display_name": "Python 3",
   "language": "python",
   "name": "python3"
  },
  "language_info": {
   "codemirror_mode": {
    "name": "ipython",
    "version": 3
   },
   "file_extension": ".py",
   "mimetype": "text/x-python",
   "name": "python",
   "nbconvert_exporter": "python",
   "pygments_lexer": "ipython3",
   "version": "3.6.6"
  },
  "toc": {
   "nav_menu": {},
   "number_sections": true,
   "sideBar": true,
   "skip_h1_title": false,
   "toc_cell": false,
   "toc_position": {},
   "toc_section_display": "block",
   "toc_window_display": false
  }
 },
 "nbformat": 4,
 "nbformat_minor": 2
}
