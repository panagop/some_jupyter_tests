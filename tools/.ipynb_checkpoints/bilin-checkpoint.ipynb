{
 "cells": [
  {
   "cell_type": "markdown",
   "metadata": {},
   "source": [
    "# Bilin"
   ]
  },
  {
   "cell_type": "code",
   "execution_count": 14,
   "metadata": {},
   "outputs": [],
   "source": [
    "import numpy as np\n",
    "import pandas as pd\n",
    "import matplotlib.pyplot as plt\n",
    "import seaborn as sns\n",
    "sns.set_style(\"whitegrid\")\n",
    "import ipywidgets as widgets\n",
    "from ipywidgets import interact, interactive, fixed, interact_manual\n",
    "\n",
    "from streng.tools.bilin import Bilin"
   ]
  },
  {
   "cell_type": "code",
   "execution_count": 15,
   "metadata": {},
   "outputs": [
    {
     "data": {
      "image/png": "[encoded data removed]",
      "text/plain": [
       "<Figure size 576x360 with 1 Axes>"
      ]
     },
     "metadata": {},
     "output_type": "display_data"
    }
   ],
   "source": [
    "bl = Bilin(xtarget=0.35)\n",
    "\n",
    "bl.curve_ini.load_delimited(r'D:/Programming/PyMyPackages/pystreng/tests/bilin/Example4', ' ')\n",
    "# bl.load_space_delimited(r'D:/MyBooks/TEI/RepairsExample/sapfiles/fema/PushoverCurve_modal.txt', ' ')\n",
    "bl.calc()\n",
    "\n",
    "f, ax = plt.subplots(figsize=(8, 5))\n",
    "ax.plot(bl.curve_ini.x, bl.curve_ini.y, label=\"Initial Curve\", lw=2)\n",
    "ax.plot(bl.bilinear_curve.d_array, bl.bilinear_curve.a_array, label=\"Bilinear Curve\", lw=2)\n",
    "ax.set_title('Διγραμμικοποίηση καμπύλης αντίστασης')\n",
    "ax.set_ylabel('V (kN)')\n",
    "ax.set_xlabel('δ (m)')\n",
    "ax.legend()\n",
    "fig = (f, ax)\n",
    "plt.show()"
   ]
  },
  {
   "cell_type": "code",
   "execution_count": 16,
   "metadata": {},
   "outputs": [
    {
     "name": "stdout",
     "output_type": "stream",
     "text": [
      "| quantity   |     value |\n",
      "|:-----------|----------:|\n",
      "| x_0        | 2.140E-02 |\n",
      "| x_y        | 7.275E-02 |\n",
      "| x_u        | 3.500E-01 |\n",
      "| y_0        | 0.000E+00 |\n",
      "| y_y        | 1.279E+03 |\n",
      "| y_u        | 1.434E+03 |\n",
      "| kel        | 2.490E+04 |\n",
      "| kinel      | 5.618E+02 |\n",
      "| μ          | 6.400E+00 |\n",
      "| α          | 2.256E-02 |\n"
     ]
    }
   ],
   "source": [
    "print(bl.bilinear_curve.all_quantities)"
   ]
  },
  {
   "cell_type": "code",
   "execution_count": 17,
   "metadata": {},
   "outputs": [
    {
     "data": {
      "text/plain": [
       "0.35"
      ]
     },
     "execution_count": 17,
     "metadata": {},
     "output_type": "execute_result"
    }
   ],
   "source": [
    "bl.bilinear_curve.all_quantities.retrieve('quantity', 'x_u', 'value')"
   ]
  },
  {
   "cell_type": "code",
   "execution_count": 18,
   "metadata": {},
   "outputs": [
    {
     "data": {
      "application/vnd.jupyter.widget-view+json": {
       "model_id": "3763430d78c0433db99cff11cf0fc1db",
       "version_major": 2,
       "version_minor": 0
      },
      "text/plain": [
       "interactive(children=(IntSlider(value=200, description='x', max=600, min=50), Output()), _dom_classes=('widget…"
      ]
     },
     "metadata": {},
     "output_type": "display_data"
    }
   ],
   "source": [
    "def f(x):\n",
    "    bl = Bilin(xtarget=x/1000., dropstrength=0.6)\n",
    "\n",
    "    bl.curve_ini.load_delimited(r'D:/Programming/PyMyPackages/pystreng/tests/bilin/Example4', ' ')\n",
    "    bl.calc()\n",
    "\n",
    "    plt.plot(bl.curve_ini.x, bl.curve_ini.y)\n",
    "    plt.plot(bl.bilinear_curve.d_array, bl.bilinear_curve.a_array)\n",
    "    plt.show()\n",
    "    return x\n",
    "\n",
    "interact(f, x=widgets.IntSlider(min=50,max=600,step=1,value=200));"
   ]
  },
  {
   "cell_type": "code",
   "execution_count": 19,
   "metadata": {},
   "outputs": [
    {
     "data": {
      "application/vnd.jupyter.widget-view+json": {
       "model_id": "d8b136df53ad4b3e9d28f5a66dfe7f43",
       "version_major": 2,
       "version_minor": 0
      },
      "text/plain": [
       "interactive(children=(Textarea(value='', description='Initial curve', placeholder='Paste space delimited x-y v…"
      ]
     },
     "metadata": {},
     "output_type": "display_data"
    }
   ],
   "source": [
    "def f_str(x):\n",
    "    if len(x)>0:\n",
    "        bl = Bilin()\n",
    "        bl.curve_ini.load_space_delimited_string(x)\n",
    "        bl.calc()\n",
    "\n",
    "        plt.plot(bl.curve_ini.x, bl.curve_ini.y)\n",
    "        plt.plot(bl.bilinear_curve.d_array, bl.bilinear_curve.a_array)\n",
    "        plt.show()\n",
    "    \n",
    "interact(f_str, x=widgets.Textarea(\n",
    "    placeholder='Paste space delimited x-y values:',\n",
    "    description='Initial curve',\n",
    "    disabled=False));"
   ]
  },
  {
   "cell_type": "code",
   "execution_count": 20,
   "metadata": {},
   "outputs": [
    {
     "name": "stdout",
     "output_type": "stream",
     "text": [
      "Bilin main output\n",
      "\n",
      "Αρχική μετατόπιση: 0.0214\n",
      "\n",
      "Έλεγχος στο 20% του ymax\n",
      "x(02)=0.009792445820433439, y(02)=303.416. Οπότε k(02)=30984.70040721349\n",
      "\n",
      "Εμβαδό καμπύλης: 408.94865204545454\n"
     ]
    }
   ],
   "source": [
    "print(bl)"
   ]
  },
  {
   "cell_type": "code",
   "execution_count": 21,
   "metadata": {},
   "outputs": [
    {
     "name": "stdout",
     "output_type": "stream",
     "text": [
      "Bilin main output\n",
      "\n",
      "Αρχική μετατόπιση: 0.0214\n",
      "\n",
      "Έλεγχος στο 20% του ymax\n",
      "x(02)=0.009792445820433439, y(02)=303.416. Οπότε k(02)=30984.70040721349\n",
      "\n",
      "Εμβαδό καμπύλης: 408.94865204545454\n"
     ]
    }
   ],
   "source": [
    "print(bl.output.outputStrings['main'])\n",
    "# print(bl.output)"
   ]
  },
  {
   "cell_type": "code",
   "execution_count": 22,
   "metadata": {},
   "outputs": [
    {
     "data": {
      "text/html": [
       "<div>\n",
       "<style scoped>\n",
       "    .dataframe tbody tr th:only-of-type {\n",
       "        vertical-align: middle;\n",
       "    }\n",
       "\n",
       "    .dataframe tbody tr th {\n",
       "        vertical-align: top;\n",
       "    }\n",
       "\n",
       "    .dataframe thead th {\n",
       "        text-align: right;\n",
       "    }\n",
       "</style>\n",
       "<table border=\"1\" class=\"dataframe\">\n",
       "  <thead>\n",
       "    <tr style=\"text-align: right;\">\n",
       "      <th></th>\n",
       "      <th>x</th>\n",
       "      <th>y</th>\n",
       "    </tr>\n",
       "  </thead>\n",
       "  <tbody>\n",
       "    <tr>\n",
       "      <th>0</th>\n",
       "      <td>0.0214</td>\n",
       "      <td>0.00</td>\n",
       "    </tr>\n",
       "    <tr>\n",
       "      <th>1</th>\n",
       "      <td>0.0237</td>\n",
       "      <td>71.07</td>\n",
       "    </tr>\n",
       "    <tr>\n",
       "      <th>2</th>\n",
       "      <td>0.0260</td>\n",
       "      <td>142.14</td>\n",
       "    </tr>\n",
       "    <tr>\n",
       "      <th>3</th>\n",
       "      <td>0.0283</td>\n",
       "      <td>213.21</td>\n",
       "    </tr>\n",
       "    <tr>\n",
       "      <th>4</th>\n",
       "      <td>0.0306</td>\n",
       "      <td>284.28</td>\n",
       "    </tr>\n",
       "    <tr>\n",
       "      <th>5</th>\n",
       "      <td>0.0328</td>\n",
       "      <td>355.34</td>\n",
       "    </tr>\n",
       "    <tr>\n",
       "      <th>6</th>\n",
       "      <td>0.0351</td>\n",
       "      <td>426.41</td>\n",
       "    </tr>\n",
       "    <tr>\n",
       "      <th>7</th>\n",
       "      <td>0.0356</td>\n",
       "      <td>440.66</td>\n",
       "    </tr>\n",
       "    <tr>\n",
       "      <th>8</th>\n",
       "      <td>0.0379</td>\n",
       "      <td>501.46</td>\n",
       "    </tr>\n",
       "    <tr>\n",
       "      <th>9</th>\n",
       "      <td>0.0409</td>\n",
       "      <td>566.15</td>\n",
       "    </tr>\n",
       "    <tr>\n",
       "      <th>10</th>\n",
       "      <td>0.0446</td>\n",
       "      <td>633.82</td>\n",
       "    </tr>\n",
       "    <tr>\n",
       "      <th>11</th>\n",
       "      <td>0.0482</td>\n",
       "      <td>699.08</td>\n",
       "    </tr>\n",
       "    <tr>\n",
       "      <th>12</th>\n",
       "      <td>0.0517</td>\n",
       "      <td>758.74</td>\n",
       "    </tr>\n",
       "    <tr>\n",
       "      <th>13</th>\n",
       "      <td>0.0540</td>\n",
       "      <td>797.21</td>\n",
       "    </tr>\n",
       "    <tr>\n",
       "      <th>14</th>\n",
       "      <td>0.0563</td>\n",
       "      <td>833.29</td>\n",
       "    </tr>\n",
       "    <tr>\n",
       "      <th>15</th>\n",
       "      <td>0.0586</td>\n",
       "      <td>869.36</td>\n",
       "    </tr>\n",
       "    <tr>\n",
       "      <th>16</th>\n",
       "      <td>0.0609</td>\n",
       "      <td>905.44</td>\n",
       "    </tr>\n",
       "    <tr>\n",
       "      <th>17</th>\n",
       "      <td>0.0648</td>\n",
       "      <td>966.95</td>\n",
       "    </tr>\n",
       "    <tr>\n",
       "      <th>18</th>\n",
       "      <td>0.0679</td>\n",
       "      <td>1015.03</td>\n",
       "    </tr>\n",
       "    <tr>\n",
       "      <th>19</th>\n",
       "      <td>0.0711</td>\n",
       "      <td>1062.08</td>\n",
       "    </tr>\n",
       "  </tbody>\n",
       "</table>\n",
       "</div>"
      ],
      "text/plain": [
       "         x        y\n",
       "0   0.0214     0.00\n",
       "1   0.0237    71.07\n",
       "2   0.0260   142.14\n",
       "3   0.0283   213.21\n",
       "4   0.0306   284.28\n",
       "5   0.0328   355.34\n",
       "6   0.0351   426.41\n",
       "7   0.0356   440.66\n",
       "8   0.0379   501.46\n",
       "9   0.0409   566.15\n",
       "10  0.0446   633.82\n",
       "11  0.0482   699.08\n",
       "12  0.0517   758.74\n",
       "13  0.0540   797.21\n",
       "14  0.0563   833.29\n",
       "15  0.0586   869.36\n",
       "16  0.0609   905.44\n",
       "17  0.0648   966.95\n",
       "18  0.0679  1015.03\n",
       "19  0.0711  1062.08"
      ]
     },
     "execution_count": 22,
     "metadata": {},
     "output_type": "execute_result"
    }
   ],
   "source": [
    "bl.output.outputTables['InitialCurve'].to_panda_dataframe.head(20)\n"
   ]
  },
  {
   "cell_type": "code",
   "execution_count": 23,
   "metadata": {},
   "outputs": [
    {
     "name": "stdout",
     "output_type": "stream",
     "text": [
      "Bilin main output\n",
      "\n",
      "Αρχική μετατόπιση: 0.0214\n",
      "\n",
      "Έλεγχος στο 20% του ymax\n",
      "x(02)=0.009792445820433439, y(02)=303.416. Οπότε k(02)=30984.70040721349\n",
      "\n",
      "Εμβαδό καμπύλης: 408.94865204545454\n"
     ]
    }
   ],
   "source": [
    "print(bl.output.outputStrings['main'])"
   ]
  },
  {
   "cell_type": "code",
   "execution_count": 24,
   "metadata": {},
   "outputs": [
    {
     "name": "stdout",
     "output_type": "stream",
     "text": [
      "|   __iteration |       x_y |       y_y |       x_u |       y_u |     kinel |       kel |      k_06 |     error |\n",
      "|--------------:|----------:|----------:|----------:|----------:|----------:|----------:|----------:|----------:|\n",
      "|             1 | 3.962E-02 | 1.228E+03 | 3.286E-01 | 1.434E+03 | 7.162E+02 | 3.098E+04 | 2.540E+04 | 2.198E-01 |\n",
      "|             2 | 5.013E-02 | 1.273E+03 | 3.286E-01 | 1.434E+03 | 5.784E+02 | 2.540E+04 | 2.495E+04 | 1.787E-02 |\n",
      "|             3 | 5.122E-02 | 1.278E+03 | 3.286E-01 | 1.434E+03 | 5.635E+02 | 2.495E+04 | 2.491E+04 | 1.824E-03 |\n",
      "|             4 | 5.133E-02 | 1.279E+03 | 3.286E-01 | 1.434E+03 | 5.620E+02 | 2.491E+04 | 2.490E+04 | 1.892E-04 |\n",
      "|             5 | 5.134E-02 | 1.279E+03 | 3.286E-01 | 1.434E+03 | 5.618E+02 | 2.490E+04 | 2.490E+04 | 1.966E-05 |\n",
      "|             6 | 5.135E-02 | 1.279E+03 | 3.286E-01 | 1.434E+03 | 5.618E+02 | 2.490E+04 | 2.490E+04 | 2.043E-06 |\n",
      "|             7 | 5.135E-02 | 1.279E+03 | 3.286E-01 | 1.434E+03 | 5.618E+02 | 2.490E+04 | 2.490E+04 | 2.123E-07 |\n"
     ]
    }
   ],
   "source": [
    "print(bl.output.outputTables['Iterations'].to_markdown)"
   ]
  },
  {
   "cell_type": "code",
   "execution_count": 25,
   "metadata": {},
   "outputs": [
    {
     "name": "stdout",
     "output_type": "stream",
     "text": [
      "|         x |         y |\n",
      "|----------:|----------:|\n",
      "| 2.140E-02 | 0.000E+00 |\n",
      "| 7.275E-02 | 1.279E+03 |\n",
      "| 3.500E-01 | 1.434E+03 |\n"
     ]
    }
   ],
   "source": [
    "print(bl.output.outputTables['BilinearCurve'].to_markdown)"
   ]
  },
  {
   "cell_type": "code",
   "execution_count": 26,
   "metadata": {},
   "outputs": [
    {
     "name": "stdout",
     "output_type": "stream",
     "text": [
      "| quantity   |     value |\n",
      "|:-----------|----------:|\n",
      "| x_0        | 2.140E-02 |\n",
      "| x_y        | 7.275E-02 |\n",
      "| x_u        | 3.500E-01 |\n",
      "| y_0        | 0.000E+00 |\n",
      "| y_y        | 1.279E+03 |\n",
      "| y_u        | 1.434E+03 |\n",
      "| kel        | 2.490E+04 |\n",
      "| kinel      | 5.618E+02 |\n",
      "| μ          | 6.400E+00 |\n",
      "| α          | 2.256E-02 |\n"
     ]
    }
   ],
   "source": [
    "print(bl.bilinear_curve.all_quantities)"
   ]
  }
 ],
 "metadata": {
  "kernel_info": {
   "name": "python3"
  },
  "kernelspec": {
   "display_name": "Python 3",
   "language": "python",
   "name": "python3"
  },
  "language_info": {
   "codemirror_mode": {
    "name": "ipython",
    "version": 3
   },
   "file_extension": ".py",
   "mimetype": "text/x-python",
   "name": "python",
   "nbconvert_exporter": "python",
   "pygments_lexer": "ipython3",
   "version": "3.7.3"
  },
  "nteract": {
   "version": "0.11.9"
  },
  "toc": {
   "base_numbering": 1,
   "nav_menu": {},
   "number_sections": true,
   "sideBar": true,
   "skip_h1_title": false,
   "title_cell": "Table of Contents",
   "title_sidebar": "Contents",
   "toc_cell": false,
   "toc_position": {},
   "toc_section_display": "block",
   "toc_window_display": false
  },
  "varInspector": {
   "cols": {
    "lenName": 16,
    "lenType": 16,
    "lenVar": 40
   },
   "kernels_config": {
    "python": {
     "delete_cmd_postfix": "",
     "delete_cmd_prefix": "del ",
     "library": "var_list.py",
     "varRefreshCmd": "print(var_dic_list())"
    },
    "r": {
     "delete_cmd_postfix": ") ",
     "delete_cmd_prefix": "rm(",
     "library": "var_list.r",
     "varRefreshCmd": "cat(var_dic_list()) "
    }
   },
   "types_to_exclude": [
    "module",
    "function",
    "builtin_function_or_method",
    "instance",
    "_Feature"
   ],
   "window_display": false
  }
 },
 "nbformat": 4,
 "nbformat_minor": 2
}
