{
 "cells": [
  {
   "cell_type": "code",
   "execution_count": 4,
   "metadata": {},
   "outputs": [],
   "source": [
    "from IPython.display import Image\n",
    "from openseespy import opensees\n",
    "import math\n",
    "import matplotlib.pyplot as plt\n",
    "import pandas as pd\n",
    "import numpy as np\n",
    "import pickle\n",
    "import gzip\n",
    "from streng.ppp.sections.geometry.tee import TeeSectionGeometry\n",
    "from streng.ppp.sections.geometry.rectangular import RectangularSectionGeometry\n",
    "from streng.ppp.opensees.pre.elements.modified_ibarra_krawinkler import ModifiedIbarraKrawinkler"
   ]
  },
  {
   "cell_type": "code",
   "execution_count": 11,
   "metadata": {},
   "outputs": [
    {
     "name": "stdout",
     "output_type": "stream",
     "text": [
      "Beam\n",
      "EI = 200292.9\n",
      "EA = 5250000.0\n",
      "GA' = 2625000.0\n",
      "\n",
      "Column\n",
      "EI = 64000.0\n",
      "EA = 4800000.0\n",
      "GA' = 2000000.0\n"
     ]
    }
   ],
   "source": [
    "E = 30000000.\n",
    "U = 0.0\n",
    "G = E / (2.0*(1.0+U))\n",
    "\n",
    "# Βάζω μειωτικό συντελεστή 0.5 στη δυσκαμψία της δοκόύ\n",
    "tbeam = TeeSectionGeometry(bw=0.25, h=0.70, beff=1.20, hf=0.15)\n",
    "beam_A = tbeam.bw * tbeam.h \n",
    "beam_I = tbeam.moment_of_inertia_xx * 0.5\n",
    "beam_sheararea = tbeam.shear_area_2\n",
    "\n",
    "beam_EI = E*beam_I\n",
    "beam_EA = E*beam_A\n",
    "beam_GA = G*beam_sheararea\n",
    "\n",
    "print('Beam')\n",
    "print(f'EI = {beam_EI:.1f}')\n",
    "print(f'EA = {beam_EA:.1f}')\n",
    "print(f\"GA' = {beam_GA:.1f}\")\n",
    "\n",
    "beam_My_pos=100.15\n",
    "beam_Mu_pos=1.1*beam_My_pos\n",
    "beam_θp_pos=0.025\n",
    "beam_θpc_pos=0.030\n",
    "\n",
    "beam_My_neg=146.36\n",
    "beam_Mu_neg=1.1*beam_My_neg\n",
    "beam_θp_neg=0.025\n",
    "beam_θpc_neg=0.030\n",
    "\n",
    "\n",
    "# Χωρίς μειωτικό συντελεστή για τη δυσκαμψία του στύλου\n",
    "col = RectangularSectionGeometry(b=0.40, h=0.40)\n",
    "col_A = col.area\n",
    "col_I = col.moment_of_inertia_xx\n",
    "col_sheararea = col.shear_area_2\n",
    "\n",
    "col_My=236.97\n",
    "col_Mu=1.1*col_My\n",
    "col_θp=0.02\n",
    "col_θpc=0.024\n",
    "\n",
    "col_EI = E*col_I\n",
    "col_EA = E*col_A\n",
    "col_GA = G*col_sheararea\n",
    "\n",
    "print('')\n",
    "print('Column')\n",
    "print(f'EI = {col_EI:.1f}')\n",
    "print(f'EA = {col_EA:.1f}')\n",
    "print(f\"GA' = {col_GA:.1f}\")"
   ]
  },
  {
   "cell_type": "code",
   "execution_count": null,
   "metadata": {},
   "outputs": [],
   "source": []
  }
 ],
 "metadata": {
  "kernelspec": {
   "display_name": "Python 3",
   "language": "python",
   "name": "python3"
  },
  "language_info": {
   "codemirror_mode": {
    "name": "ipython",
    "version": 3
   },
   "file_extension": ".py",
   "mimetype": "text/x-python",
   "name": "python",
   "nbconvert_exporter": "python",
   "pygments_lexer": "ipython3",
   "version": "3.6.8"
  },
  "toc": {
   "base_numbering": 1,
   "nav_menu": {},
   "number_sections": false,
   "sideBar": true,
   "skip_h1_title": false,
   "title_cell": "Table of Contents",
   "title_sidebar": "Contents",
   "toc_cell": false,
   "toc_position": {},
   "toc_section_display": true,
   "toc_window_display": false
  },
  "varInspector": {
   "cols": {
    "lenName": 16,
    "lenType": 16,
    "lenVar": 40
   },
   "kernels_config": {
    "python": {
     "delete_cmd_postfix": "",
     "delete_cmd_prefix": "del ",
     "library": "var_list.py",
     "varRefreshCmd": "print(var_dic_list())"
    },
    "r": {
     "delete_cmd_postfix": ") ",
     "delete_cmd_prefix": "rm(",
     "library": "var_list.r",
     "varRefreshCmd": "cat(var_dic_list()) "
    }
   },
   "types_to_exclude": [
    "module",
    "function",
    "builtin_function_or_method",
    "instance",
    "_Feature"
   ],
   "window_display": false
  }
 },
 "nbformat": 4,
 "nbformat_minor": 2
}
