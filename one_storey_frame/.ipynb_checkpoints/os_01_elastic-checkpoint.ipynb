{
 "cells": [
  {
   "cell_type": "code",
   "execution_count": 80,
   "metadata": {},
   "outputs": [],
   "source": [
    "from openseespy import opensees\n",
    "import math\n",
    "from streng.ppp.sections.geometry.tee import TeeSectionGeometry\n",
    "from streng.ppp.sections.geometry.rectangular import RectangularSectionGeometry\n",
    "from streng.ppp.opensees.post.convert_local_axes import os_to_sap_forces_beam, os_to_sap_forces_col"
   ]
  },
  {
   "cell_type": "code",
   "execution_count": 81,
   "metadata": {},
   "outputs": [],
   "source": [
    "E = 30000000.\n",
    "U = 0.0\n",
    "G = E / (2.0*(1.0+U))\n",
    "\n",
    "# Βάζω μειωτικό συντελεστή 0.5 στη δυσκαμψία της δοκόύ\n",
    "tbeam = TeeSectionGeometry(bw=0.25, h=0.70, beff=1.20, hf=0.15)\n",
    "beam_A = tbeam.bw * tbeam.h \n",
    "beam_I = tbeam.moment_of_inertia_xx * 0.5\n",
    "beam_sheararea = tbeam.shear_area_2\n",
    "\n",
    "# Χωρίς μειωτικό συντελεστή για τη δυσκαμψία του στύλου\n",
    "col = RectangularSectionGeometry(b=0.40, h=0.40)\n",
    "col_A = col.area\n",
    "col_I = col.moment_of_inertia_xx\n",
    "col_sheararea = col.shear_area_2"
   ]
  },
  {
   "cell_type": "code",
   "execution_count": 82,
   "metadata": {},
   "outputs": [],
   "source": [
    "# General\n",
    "opensees.wipe()\n",
    "opensees.model('Basic', '-ndm', 2)\n",
    "opensees.geomTransf('Linear', 1)"
   ]
  },
  {
   "cell_type": "code",
   "execution_count": 83,
   "metadata": {},
   "outputs": [],
   "source": [
    "# Nodes\n",
    "opensees.node(1, 0., 0.)\n",
    "opensees.node(2, 5., 0.)\n",
    "opensees.node(3, 0., 3.)\n",
    "opensees.node(4, 5., 3.)"
   ]
  },
  {
   "cell_type": "code",
   "execution_count": 84,
   "metadata": {},
   "outputs": [],
   "source": [
    "# Node fixes\n",
    "opensees.fix(1, 1, 1, 1)\n",
    "opensees.fix(2, 1, 1, 1)"
   ]
  },
  {
   "cell_type": "code",
   "execution_count": 85,
   "metadata": {},
   "outputs": [],
   "source": [
    "# Nodal masses\n",
    "opensees.mass(3, 11.723, 1.0e-10, 1.0e-10)"
   ]
  },
  {
   "cell_type": "code",
   "execution_count": 86,
   "metadata": {},
   "outputs": [],
   "source": [
    "# Diaphragm - equalDOFs\n",
    "opensees.equalDOF(3, 4, 1)"
   ]
  },
  {
   "cell_type": "code",
   "execution_count": 87,
   "metadata": {},
   "outputs": [],
   "source": [
    "# ElasticTimoshenkoBeams\n",
    "opensees.element('ElasticTimoshenkoBeam', 1, 1, 3, E, G, col_A, col_I, col_sheararea, 1) \n",
    "opensees.element('ElasticTimoshenkoBeam', 2, 2, 4, E, G, col_A, col_I, col_sheararea, 1) \n",
    "opensees.element('ElasticTimoshenkoBeam', 3, 3, 4, E, G, beam_A, beam_I, beam_sheararea, 1) "
   ]
  },
  {
   "cell_type": "code",
   "execution_count": 88,
   "metadata": {},
   "outputs": [
    {
     "name": "stdout",
     "output_type": "stream",
     "text": [
      "Period = 0.1029s\n"
     ]
    }
   ],
   "source": [
    "# eigen_analysis\n",
    "numEigen = 1\n",
    "eigenValue = opensees.eigen('-fullGenLapack', numEigen)\n",
    "\n",
    "lamb = eigenValue\n",
    "period = 2 * math.pi / math.sqrt(lamb)\n",
    "print(f'Period = {period:.4f}s')"
   ]
  },
  {
   "cell_type": "code",
   "execution_count": 89,
   "metadata": {},
   "outputs": [],
   "source": [
    "# Gravity loads\n",
    "opensees.timeSeries('Linear', 1)\n",
    "opensees.pattern('Plain', 101, 1)\n",
    "\n",
    "opensees.eleLoad('-ele', 3, '-type', '-beamUniform', -23.0)"
   ]
  },
  {
   "cell_type": "code",
   "execution_count": 90,
   "metadata": {},
   "outputs": [
    {
     "data": {
      "text/plain": [
       "0"
      ]
     },
     "execution_count": 90,
     "metadata": {},
     "output_type": "execute_result"
    }
   ],
   "source": [
    "opensees.system('BandGeneral')\n",
    "opensees.constraints('Plain')\n",
    "opensees.numberer('RCM')\n",
    "\n",
    "opensees.algorithm('Linear')\n",
    "opensees.integrator('LoadControl', 1.)\n",
    "opensees.analysis('Static')\n",
    "opensees.analyze(1)"
   ]
  },
  {
   "cell_type": "code",
   "execution_count": 93,
   "metadata": {},
   "outputs": [
    {
     "name": "stdout",
     "output_type": "stream",
     "text": [
      "Τα εντατικά μεγέθη μετατρέπονται σύμφωνα με τα πρόσημα του sap σε N1 V1 M1 N2 V2 M2\n",
      "element 1: [-57.5, -12.04, -11.78, -57.5, -12.04, 24.34] - Στύλος αριστερά\n",
      "element 2: [-57.5, 12.04, 11.78, -57.5, 12.04, -24.34] - Στύλος δεξιά\n",
      "element 3: [0.0, -57.5, -24.34, 0.0, 57.5, -24.34] - Δοκός\n"
     ]
    }
   ],
   "source": [
    "print('Τα εντατικά μεγέθη μετατρέπονται σύμφωνα με τα πρόσημα του sap σε N1 V1 M1 N2 V2 M2')\n",
    "print('element 1: ' + str(os_to_sap_forces_col([round(val, 2) for val in opensees.eleResponse(1, 'force')])) + ' - Στύλος αριστερά')\n",
    "print('element 2: ' + str(os_to_sap_forces_col([round(val, 2) for val in opensees.eleResponse(2, 'force')])) + ' - Στύλος δεξιά')\n",
    "print('element 3: ' + str(os_to_sap_forces_beam([round(val, 2) for val in opensees.eleResponse(3, 'force')])) + ' - Δοκός')"
   ]
  },
  {
   "cell_type": "code",
   "execution_count": 92,
   "metadata": {},
   "outputs": [],
   "source": [
    "# opensees.wipe('all')"
   ]
  }
 ],
 "metadata": {
  "kernelspec": {
   "display_name": "Python 3",
   "language": "python",
   "name": "python3"
  },
  "language_info": {
   "codemirror_mode": {
    "name": "ipython",
    "version": 3
   },
   "file_extension": ".py",
   "mimetype": "text/x-python",
   "name": "python",
   "nbconvert_exporter": "python",
   "pygments_lexer": "ipython3",
   "version": "3.6.8"
  },
  "toc": {
   "base_numbering": 1,
   "nav_menu": {},
   "number_sections": false,
   "sideBar": true,
   "skip_h1_title": false,
   "title_cell": "Table of Contents",
   "title_sidebar": "Contents",
   "toc_cell": false,
   "toc_position": {},
   "toc_section_display": true,
   "toc_window_display": false
  },
  "varInspector": {
   "cols": {
    "lenName": 16,
    "lenType": 16,
    "lenVar": 40
   },
   "kernels_config": {
    "python": {
     "delete_cmd_postfix": "",
     "delete_cmd_prefix": "del ",
     "library": "var_list.py",
     "varRefreshCmd": "print(var_dic_list())"
    },
    "r": {
     "delete_cmd_postfix": ") ",
     "delete_cmd_prefix": "rm(",
     "library": "var_list.r",
     "varRefreshCmd": "cat(var_dic_list()) "
    }
   },
   "types_to_exclude": [
    "module",
    "function",
    "builtin_function_or_method",
    "instance",
    "_Feature"
   ],
   "window_display": false
  }
 },
 "nbformat": 4,
 "nbformat_minor": 2
}
