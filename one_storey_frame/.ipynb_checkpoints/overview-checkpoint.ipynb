{
 "cells": [
  {
   "cell_type": "markdown",
   "metadata": {},
   "source": [
    "# Παράδειγμα μονώροφου 2στυλου πλαισίου\n",
    "\n",
    "## Παρουσίαση του φορέα\n",
    "\n",
    "- [Γεωμετρία - οπλισμοί - ελαστική ανάλυση για g+0.3q - ιδιοπερίοδος](frame_description.ipynb)\n",
    "\n",
    "## Ανελαστικές στατικές αναλύσεις\n",
    "\n",
    "### Αυτόματος υπολογισμός πλαστικών αρθρώσεων από τον οπλισμό των διατομών (sap vs etabs)\n",
    "\n",
    "Χρησιμοποιούνται πλαστικές αρθρώσεις τύπου M3, χωρίς αλληλεπίδραση ροπής - αξονικού φορτίου.\n",
    "\n",
    "- Ανελαστική στατική ανάλυση με το SAP2000 v.14.2.4 [Sap2000 pushover - Auto hinge properties](sap_01_auto.ipynb)\n",
    "- Ανελαστική στατική ανάλυση με το ETABS v.9.7.2 [ETABS pushover - Auto hinge properties](etabs_01_auto.ipynb)\n",
    "- Συγκρίσεις sap vs etabs [sap vs etabs auto](sap_vs_etabs_push_auto.ipynb)\n",
    "\n",
    "### Επιλύσεις με user-defined πλαστικές αθρώσεις\n",
    "\n",
    "- Επιλογή πλαστικών αρθρώσεων (Μ-θ) για όλες τις αναλύσεις [user defined M-θ](userdefined_Mtheta.ipynb)\n",
    "- Επίλυση με το opensees [opensees pushover](os_02_pushover.ipynb)\n",
    "- Συγκρίσεις [pushover comparisons](pushover_comparisons.ipynb)\n",
    "\n",
    "### Επιλύσεις τοιχοπληρωμένου φορέα\n",
    "- Υπολογισμός ιδιοτήτων διαγώνιας ράβδου - Παράδειγμα διπλωματικής εργασίας Γούλα-Κωστινάκη [GoulasKostinakis_ThesisExample](GoulasKostinakis_ThesisExample.ipynb)\n",
    "- Υπολογισμός ιδιοτήτων διαγώνιας ράβδου - Τοιχοπλήρωση πλαισίου παραδείγματος [GoulasKostinakis_calc_infill](GoulasKostinakis_calc_infill.ipynb)\n",
    "- Επίλυση με το opensees - Σύγκριση με etabs\n",
    "\n",
    "## Ανελαστικές δυναμικές αναλύσεις\n",
    "\n",
    "- Διέγερση ελέγχου\n",
    "- Επίλυση με το drain\n",
    "- Επίλυση με το opensees\n",
    "- Συγκρίσεις"
   ]
  }
 ],
 "metadata": {
  "kernelspec": {
   "display_name": "Python 3",
   "language": "python",
   "name": "python3"
  },
  "language_info": {
   "codemirror_mode": {
    "name": "ipython",
    "version": 3
   },
   "file_extension": ".py",
   "mimetype": "text/x-python",
   "name": "python",
   "nbconvert_exporter": "python",
   "pygments_lexer": "ipython3",
   "version": "3.6.8"
  },
  "toc": {
   "base_numbering": 1,
   "nav_menu": {},
   "number_sections": false,
   "sideBar": true,
   "skip_h1_title": false,
   "title_cell": "Table of Contents",
   "title_sidebar": "Contents",
   "toc_cell": false,
   "toc_position": {},
   "toc_section_display": true,
   "toc_window_display": false
  },
  "varInspector": {
   "cols": {
    "lenName": 16,
    "lenType": 16,
    "lenVar": 40
   },
   "kernels_config": {
    "python": {
     "delete_cmd_postfix": "",
     "delete_cmd_prefix": "del ",
     "library": "var_list.py",
     "varRefreshCmd": "print(var_dic_list())"
    },
    "r": {
     "delete_cmd_postfix": ") ",
     "delete_cmd_prefix": "rm(",
     "library": "var_list.r",
     "varRefreshCmd": "cat(var_dic_list()) "
    }
   },
   "types_to_exclude": [
    "module",
    "function",
    "builtin_function_or_method",
    "instance",
    "_Feature"
   ],
   "window_display": false
  }
 },
 "nbformat": 4,
 "nbformat_minor": 2
}
