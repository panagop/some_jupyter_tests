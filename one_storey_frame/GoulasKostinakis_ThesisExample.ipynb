{
 "cells": [
  {
   "cell_type": "code",
   "execution_count": 1,
   "metadata": {},
   "outputs": [],
   "source": [
    "import math\n",
    "import numpy as np\n",
    "import matplotlib.pyplot as plt\n",
    "from sympy.solvers import solve\n",
    "from sympy import Symbol"
   ]
  },
  {
   "cell_type": "code",
   "execution_count": 2,
   "metadata": {},
   "outputs": [
    {
     "data": {
      "text/html": [
       "<style>\n",
       "table {float:left}\n",
       "</style>\n"
      ],
      "text/plain": [
       "<IPython.core.display.HTML object>"
      ]
     },
     "metadata": {},
     "output_type": "display_data"
    }
   ],
   "source": [
    "%%html\n",
    "<style>\n",
    "table {float:left}\n",
    "</style>"
   ]
  },
  {
   "cell_type": "code",
   "execution_count": 3,
   "metadata": {},
   "outputs": [
    {
     "data": {
      "application/javascript": [
       "$.getScript('https://kmahelona.github.io/ipython_notebook_goodies/ipython_notebook_toc.js')\n"
      ],
      "text/plain": [
       "<IPython.core.display.Javascript object>"
      ]
     },
     "metadata": {},
     "output_type": "display_data"
    }
   ],
   "source": [
    "%%javascript\n",
    "$.getScript('https://kmahelona.github.io/ipython_notebook_goodies/ipython_notebook_toc.js')"
   ]
  },
  {
   "cell_type": "markdown",
   "metadata": {},
   "source": [
    "<h1 id=\"tocheading\">Table of Contents</h1>\n",
    "<div id=\"toc\"></div>"
   ]
  },
  {
   "cell_type": "markdown",
   "metadata": {},
   "source": [
    "# Δεδομένα"
   ]
  },
  {
   "cell_type": "markdown",
   "metadata": {},
   "source": [
    "| Σύμβολο       | Περιγραφή     |\n",
    "| :------------:|:--------------|\n",
    "| $h$           | ύψος φατνώματος  |\n",
    "| $l$           | μήκος φατνώματος  |\n",
    "| $f_{wc}$      | θλιπτική αντοχή τοιχοποιίας  |\n",
    "| $t$           | πάχος τοιχοποιίας  |\n",
    "| $ρ$           | ποσοστό διαμήκους οπλισμού στύλων  |\n",
    "| $N$           | θλιπτικό αξονικό φορτίο στύλων για κατακόρυφα φορτία  |\n",
    "| $A_c$         | εμβαδό διατομής στύλου  |   "
   ]
  },
  {
   "cell_type": "markdown",
   "metadata": {},
   "source": [
    "- Παρατήρηση:\n",
    "Στο παράδειγμα θεωρείται Ν=0kN για μη επαρκώς σφηνωμένη τοιχοποιία στο περιβάλλον πλαίσιο."
   ]
  },
  {
   "cell_type": "code",
   "execution_count": 4,
   "metadata": {},
   "outputs": [],
   "source": [
    "# Διαστάσεις φατνώματος\n",
    "h = 3.0         # m\n",
    "l = 6.0         # m\n",
    "\n",
    "# Χαρακτηριστικά τοιχοποιίας\n",
    "fwc = 1.5       # MPa\n",
    "t = 0.2         # m\n",
    "\n",
    "# Στοιχεία υποστυλωμάτων\n",
    "ρ = 1           # %\n",
    "N = 0.0         # kΝ\n",
    "Ac = 0.25       # m2"
   ]
  },
  {
   "cell_type": "markdown",
   "metadata": {},
   "source": [
    "# Υπολογισμός"
   ]
  },
  {
   "cell_type": "markdown",
   "metadata": {},
   "source": [
    "## Διάγραμμα τ-γ"
   ]
  },
  {
   "cell_type": "markdown",
   "metadata": {},
   "source": [
    "### 1ος κλάδος\n",
    "\n",
    "Δυσκαμψία: $k_w = 1.71\\cdot f_{wc} \\cdot (80+\\dfrac{h}{t})$\n",
    "\n",
    "Παραμόρφωση στη ρηγμάτωση του τοίχου: $γ_{cr} = \\dfrac{0.09}{\\sqrt{f_{wc}}\\cdot(80+\\dfrac{h}{t})}$\n",
    "\n",
    "Τάση ρηγμάτωσης: $τ_{cr} = k_w \\cdot γ_{cr}$\n",
    "\n",
    "### 2ος κλάδος\n",
    "\n",
    "Παραμόρφωση στο σημείο έναρξης της θραύσης: $γ_{u} = 4.545 \\cdot γ_{cr}$\n",
    "\n",
    "Τάση στο σημείο έναρξης της θραύσης: $τ_{u} = 0.22 \\cdot \\sqrt{f_{wc}}$\n",
    "\n",
    "### 3ος κλάδος\n",
    "\n",
    "Θλιπτική τάση στο υποστύλωμα: $σ = \\dfrac{N}{A_c}$\n",
    "\n",
    "$\\dfrac{τ}{τ_{u}}=1 + 0.24 \\cdot \\sqrt{\\dfrac{\\dfrac{γ}{γ_{u}} - 1}{ρ^{3.82\\cdot(1-0.22\\cdot σ)}\\cdot (1 + 0.166\\cdot σ)}} $\n",
    "\n",
    "### Τέλος καμπύλης\n",
    "\n",
    "Θεώρηση ως τελικού σημείου στο γ=0.02"
   ]
  },
  {
   "cell_type": "code",
   "execution_count": 5,
   "metadata": {},
   "outputs": [
    {
     "name": "stdout",
     "output_type": "stream",
     "text": [
      "1oς κλάδος\n",
      "kw = 243.67MPa\n",
      "γcr = 0.000774\n",
      "τcr = 0.1885MPa\n",
      "\n",
      "2oς κλάδος\n",
      "γu = 0.003516\n",
      "τu = 0.2694MPa\n",
      "\n",
      "Τέλος καμπύλης για γ=0.02\n",
      "τ0.02 = 0.1294\n"
     ]
    }
   ],
   "source": [
    "kw = 1.71 * fwc * (80 + h / t)\n",
    "γcr = 0.09 / (fwc**0.5 * (80 + h / t))\n",
    "τcr = kw * γcr\n",
    "\n",
    "τu = 0.22 * fwc**0.5\n",
    "γu = 4.545 * γcr\n",
    "\n",
    "σ = N * 0.001 / Ac\n",
    "\n",
    "print('1oς κλάδος')\n",
    "print(f'kw = {kw:.2f}MPa')\n",
    "print(f'γcr = {γcr:.6f}')\n",
    "print(f'τcr = {τcr:.4f}MPa')\n",
    "print('')\n",
    "\n",
    "print('2oς κλάδος')\n",
    "print(f'γu = {γu:.6f}')\n",
    "print(f'τu = {τu:.4f}MPa')\n",
    "\n",
    "def τ3(γ: float, τu: float, γu: float, ρ: float, σ: float):\n",
    "    x1 = (γ / γu) -1\n",
    "    x2 = np.power(ρ, (3.82 * (1 - 0.22 * σ)))\n",
    "    x3 = 1.0 + 0.166 * σ\n",
    "    return τu * (1 - 0.24 * np.sqrt( x1 / (x2 * x3)))\n",
    "\n",
    "τ002 = τ3(0.02, τu, γu, ρ, σ)\n",
    "\n",
    "print('')\n",
    "print('Τέλος καμπύλης για γ=0.02')\n",
    "print(f'τ0.02 = {τ002:.4f}')"
   ]
  },
  {
   "cell_type": "markdown",
   "metadata": {},
   "source": [
    "### Σχεδίαση διαγράμματος τ-γ"
   ]
  },
  {
   "cell_type": "code",
   "execution_count": 6,
   "metadata": {},
   "outputs": [
    {
     "data": {
      "image/png": "[encoded data removed]",
      "text/plain": [
       "<Figure size 432x288 with 1 Axes>"
      ]
     },
     "metadata": {
      "needs_background": "light"
     },
     "output_type": "display_data"
    }
   ],
   "source": [
    "x1 = [0, γcr, γu]\n",
    "y1 = [0, τcr, τu]\n",
    "\n",
    "x2 = np.linspace(γu, 0.02, 50)\n",
    "y2 = τ3(x2, τu, γu, ρ, σ)\n",
    "\n",
    "plt.plot(x1, y1, lw=2)\n",
    "plt.plot(x2, y2, lw=2)\n",
    "\n",
    "#plt.axis([0, 1.2 * 100 * γu, 0, 1.2 * τu])\n",
    "plt.axis([0, 0.021, 0, 1.1 * τu])\n",
    "plt.ylabel('τ (MPa)')\n",
    "plt.xlabel('γ')\n",
    "plt.title('τ vs γ')\n",
    "\n",
    "plt.show()"
   ]
  },
  {
   "cell_type": "markdown",
   "metadata": {},
   "source": [
    "### 4-γραμμική προσέγγιση διαγράμματος τ-γ\n",
    "\n",
    "Ο 3ος πτωτικός κλάδος του διαγράμματος μετατρέπεται σε δύο ευθείες γραμμές με τις εξής παραδοχές:\n",
    "\n",
    "- Ίσο εμβαδό μεταξύ των δύο προσεγγίσεων\n",
    "- Ο τελευταίος κλάδος είναι οριζόντιος με τ=τ(0.02)"
   ]
  },
  {
   "cell_type": "code",
   "execution_count": 7,
   "metadata": {},
   "outputs": [
    {
     "name": "stdout",
     "output_type": "stream",
     "text": [
      "\n",
      "Εμβαδό κάτω από το διάγραμμα του 3ου κλάδου\n",
      "Area = 0.002904\n",
      "γD = 0.014525\n"
     ]
    },
    {
     "data": {
      "image/png": "[encoded data removed]",
      "text/plain": [
       "<Figure size 432x288 with 1 Axes>"
      ]
     },
     "metadata": {
      "needs_background": "light"
     },
     "output_type": "display_data"
    }
   ],
   "source": [
    "Area = np.trapz(y2, x2)\n",
    "print('')\n",
    "print('Εμβαδό κάτω από το διάγραμμα του 3ου κλάδου')\n",
    "print('Area = {0:.6f}'.format(Area))\n",
    "\n",
    "γtmp = Symbol('γtmp')\n",
    "γD = solve((τ002 * (0.02 - γtmp) + 0.5 * (γtmp - γu) * (τ002 + τu) - Area), γtmp)[0]\n",
    "print('γD = {0:.6f}'.format(γD))\n",
    "\n",
    "xlin = [0, γcr, γu, γD, 0.02]\n",
    "ylin = [0, τcr, τu, τ002, τ002]\n",
    "\n",
    "plt.plot(x1, y1, lw=2)\n",
    "plt.plot(x2, y2, lw=2)\n",
    "plt.plot(xlin, ylin, lw=2)\n",
    "#plt.axis([0, 1.2 * 100 * γu, 0, 1.2 * τu])\n",
    "plt.axis([0, 0.021, 0, 1.1 * τu])\n",
    "plt.ylabel('τ (MPa)')\n",
    "plt.xlabel('γ')\n",
    "plt.title('τ vs γ')\n",
    "\n",
    "# plt.savefig( 'myfig.png' )\n",
    "plt.show()"
   ]
  },
  {
   "cell_type": "markdown",
   "metadata": {},
   "source": [
    "## Ισοδύναμη διαγώνιος"
   ]
  },
  {
   "cell_type": "markdown",
   "metadata": {},
   "source": [
    "Θεωρείται ότι η τοιχοποιία πλήρωσης έχει διατοµή $A_w$ και µέτρο διάτµησης $G_w$, ενώ η ισοδύναµη διαγώνιος έχει διατοµή $Α_s$ και µέτρο ελαστικότητας $E_s$. Η προσοµοίωση ενός τοιχοπληρωµένου πλαισίου µε στοιχείο ισοδύναµης διαγωνίου γίνεται έτσι ώστε τα δύο πλαίσια να έχουν την ίδια δυσκαµψία.\n",
    "\n",
    "Τα δύο τοιχοπληρωµένα πλαίσια δέχονται οριζόντια δύναµη $V$ και µετατοπίζονται κατά ποσότητα $δ$. Η δύναµη $V$ δηµιουργεί δύναµη $S$ στη θλιβόµενη διαγώνιο της οποίας το µήκος µειώνεται κατά $∆d$. \n",
    "\n",
    "$∆d = δ \\cdot cosα$\n",
    "\n",
    "Η ανηγμάνη παραμόρφωση είναι: $ε = \\dfrac{∆d}{d} = \\dfrac{δ \\cdot cosα}{d}$ \n",
    "\n",
    "Αλλά και $ε = \\dfrac{σ}{E_s}=\\dfrac{S}{A_s\\cdot E_s}$ \n",
    "\n",
    "Από τις δύο παραπάνω σχέσεις προκύπτει: $S=\\dfrac{A_s\\cdot E_s \\cdot δ \\cdot cosα}{d}$\n",
    "\n",
    "Η ίδια δύναµη S, δρώσα επί του τοιχοπληρωµένου πλαισίου παράγει οριζόντια συνιστώσα Η. Οπότε:\n",
    "\n",
    "$H = S \\cdot cosα$\n",
    "\n",
    "Η διατμητική παραμόρφωση είναι  $γ = \\dfrac{γ}{h}$\n",
    "\n",
    "Αλλά και $γ = \\dfrac{τ}{G_w} = \\dfrac{H}{A_w\\cdot G_w}$\n",
    "\n",
    "Από τις παραπάνω σχέσεις προκύπτει: $H = A_w\\cdot G_w \\cdot \\dfrac{δ}{h}$ \n",
    "\n",
    "οπότε: $S=\\dfrac{H}{cosα} = \\dfrac{A_w\\cdot G_w\\cdot δ}{h\\cdot cosα}= \\dfrac{A_w\\cdot G_w\\cdot δ}{d\\cdot sinα \\cdot cosα}$\n",
    "\n",
    "Συνδυάζοντας τις παραπάνω σχέσεις του S προκύπτει:\n",
    "\n",
    "$A_s\\cdot E_s = \\dfrac{A_w\\cdot G_w}{sinα \\cdot cos^2α}$\n",
    "\n",
    "Προκύπτει λοιπόν ότι όταν διατίθεται ένα διάγραµµα $τ – γ$ τοιχοποιίας εµβαδού $Α_w$ και δεδοµένης γεωµετρίας (γωνία $α$), τότε είναι δυνατό να προκύψει το αντίστοιχο διάγραµµα $S – ε$, δύναµης – ανηγµένης παραµόρφωσης διαγωνίου, µε δυστένεια $A_s\\cdot E_s$ υπολογιζόµενη από την παραπάνω σχέση.\n",
    "\n",
    "Από τη γεωμετρία του φατνώματος $α=tan^{-1}(h/l)$"
   ]
  },
  {
   "cell_type": "markdown",
   "metadata": {},
   "source": [
    "### \"Δυσκαμψίες\" - κλίσεις κλάδων"
   ]
  },
  {
   "cell_type": "markdown",
   "metadata": {},
   "source": [
    "|Τμήμα|$K_w$                                  |$A_s\\cdot E_s$  |\n",
    "|:---:|:-------------------------------------:|:--------------:|\n",
    "|AB   |$K_w=\\dfrac{τ_{cr}}{γ_{cr}}$           |$A_s\\cdot E_s=1000\\cdot\\dfrac{A_w\\cdot K_w}{sinα\\cdot cos^2a}$ |\n",
    "|BC   |$K_w'=\\dfrac{τ_u-τ_{cr}}{γ_u-γ_{cr}}$  |$A_s\\cdot E_s'=1000\\cdot\\dfrac{A_w\\cdot K_w'}{sinα\\cdot cos^2a}$ |\n",
    "|CD   |$K_w''=\\dfrac{τ_D-τ_u}{γ_D-γ_u}$  |$A_s\\cdot E_s''=1000\\cdot\\dfrac{A_w\\cdot K_w''}{sinα\\cdot cos^2a}$ |\n",
    "|+++++|++++++++++++++++++++++++++++++|+++++++++++++++++++++++++++++++++++++++++++++++++++|"
   ]
  },
  {
   "cell_type": "markdown",
   "metadata": {},
   "source": [
    "### Σημεία διαγράμματος F - δ"
   ]
  },
  {
   "cell_type": "markdown",
   "metadata": {},
   "source": [
    "|Σημείο| τ      | γ      |d                                   |δ                      |F                                   |\n",
    "|:----:|:-------|:------:|:----------------------------------:|:---------------------:|:----------------------------------:|\n",
    "|Α     |0       |0       |$d_A=\\sqrt{h^2+l^2}$                |0                      |0                                   |\n",
    "|B     |$τ_{cr}$|$γ_{cr}$|$d_B=\\sqrt{h^2+(l-h\\cdot γ_{cr})^2}$|$δ_B=δ_{cr}=-(d_B-d_A)$|$F_B=F_{cr}=\\dfrac{E_{s}A_s}{d}δ_{cr}$|\n",
    "|C     |$τ_{u}$ |$γ_{u}$ |$d_C=\\sqrt{h^2+(l-h\\cdot γ_{u})^2}$ |$δ_C=δ_{u}=-(d_C-d_A)$ |$F_C=F_{u}=\\dfrac{E_{s}'A_s}{d}(δ_u-δ_{cr})$|\n",
    "|D     |$τ_D$   |$γ_D$   |$d_D=\\sqrt{h^2+(l-h\\cdot γ_{D})^2}$ |$δ_D=-(d_D-d_A)$       |$F_D=\\dfrac{E_{s}''A_s}{d}(δ_D-δ_u)$|\n",
    "|E     |$τ_E$   |$γ_E$   |$d_E=\\sqrt{h^2+(l-h\\cdot γ_{E})^2}$ |$δ_E=-(d_E-d_A)$       |$F_E=F_D$  |\n",
    "|++++++|++++++++|++++++++|++++++++++++++++++++++++++++++++++++|+++++++++++++++++++++++|++++++++++++++++++++++++++++++++++++|"
   ]
  },
  {
   "cell_type": "code",
   "execution_count": 8,
   "metadata": {},
   "outputs": [
    {
     "name": "stdout",
     "output_type": "stream",
     "text": [
      "kw_BC = 29.52\n",
      "kw_CD = -12.72\n",
      "EsAs_AB = 817310.80\n",
      "EsAs_BC = 99022.49\n",
      "EsAs_CD = -42662.02\n",
      "dA = 6.7082\n",
      "dB = 6.7061\n",
      "dC = 6.6988\n",
      "dD = 6.6693\n",
      "dE = 6.6546\n",
      "δA = 0.0000\n",
      "δB = 0.0021\n",
      "δC = 0.0094\n",
      "δD = 0.0389\n",
      "δE = 0.0536\n",
      "FA = 0.00\n",
      "FB = 252.87\n",
      "FC = 361.46\n",
      "FD = 173.77\n",
      "FE = 173.77\n"
     ]
    },
    {
     "data": {
      "image/png": "[encoded data removed]",
      "text/plain": [
       "<Figure size 432x288 with 1 Axes>"
      ]
     },
     "metadata": {
      "needs_background": "light"
     },
     "output_type": "display_data"
    }
   ],
   "source": [
    "kw_BC = (τu - τcr) / (γu - γcr)\n",
    "kw_CD = (τ002 - τu) / (γD - γu)\n",
    "\n",
    "print('kw_BC = {0:.2f}'.format(kw_BC))\n",
    "print('kw_CD = {0:.2f}'.format(kw_CD))\n",
    "\n",
    "Aw = l * t\n",
    "α = np.arctan(h/l)  # Η γωνία με την οριζόντιο\n",
    "\n",
    "EsAs_AB = 1000 * Aw * kw / (math.sin(α) * math.cos(α) * math.cos(α))\n",
    "EsAs_BC = 1000 * Aw * kw_BC / (math.sin(α) * math.cos(α) * math.cos(α))\n",
    "EsAs_CD = 1000 * Aw * kw_CD / (math.sin(α) * math.cos(α) * math.cos(α))\n",
    "\n",
    "print('EsAs_AB = {0:.2f}'.format(EsAs_AB))\n",
    "print('EsAs_BC = {0:.2f}'.format(EsAs_BC))\n",
    "print('EsAs_CD = {0:.2f}'.format(EsAs_CD))\n",
    "\n",
    "d = (h**2 + l**2)**0.5\n",
    "dA = d\n",
    "dB = math.sqrt(math.pow(h,2) + math.pow(l - h * γcr, 2))\n",
    "dC = math.sqrt(math.pow(h,2) + math.pow(l - h * γu, 2))\n",
    "dD = math.sqrt(math.pow(h,2) + math.pow(l - h * γD, 2))\n",
    "dE = math.sqrt(math.pow(h,2) + math.pow(l - h * 0.02, 2))\n",
    "\n",
    "print('dA = {0:.4f}'.format(dA))\n",
    "print('dB = {0:.4f}'.format(dB))\n",
    "print('dC = {0:.4f}'.format(dC))\n",
    "print('dD = {0:.4f}'.format(dD))\n",
    "print('dE = {0:.4f}'.format(dE))\n",
    "\n",
    "δA = 0.0\n",
    "δB = - (dB - dA)\n",
    "δC = - (dC - dA)\n",
    "δD = - (dD - dA)\n",
    "δE = - (dE - dA)\n",
    "\n",
    "print('δA = {0:.4f}'.format(δA))\n",
    "print('δB = {0:.4f}'.format(δB))\n",
    "print('δC = {0:.4f}'.format(δC))\n",
    "print('δD = {0:.4f}'.format(δD))\n",
    "print('δE = {0:.4f}'.format(δE))\n",
    "\n",
    "FA = 0\n",
    "FB = EsAs_AB * δB / d\n",
    "FC = EsAs_BC * (δC - δB) / d + FB\n",
    "FD = EsAs_CD * (δD - δC) / d + FC\n",
    "FE = FD\n",
    "\n",
    "print('FA = {0:.2f}'.format(FA))\n",
    "print('FB = {0:.2f}'.format(FB))\n",
    "print('FC = {0:.2f}'.format(FC))\n",
    "print('FD = {0:.2f}'.format(FD))\n",
    "print('FE = {0:.2f}'.format(FE))\n",
    "\n",
    "XFδ = [δA, δB, δC, δD, δE]\n",
    "YFδ = [FA, FB, FC, FD, FE]\n",
    "\n",
    "plt.plot(XFδ, YFδ, lw=2)\n",
    "plt.axis([0, 1.1 * δE, 0, 1.1 * FC])\n",
    "plt.ylabel('F (kN)')\n",
    "plt.xlabel('δ (m)')\n",
    "plt.title('F vs δ')\n",
    "\n",
    "plt.show()"
   ]
  }
 ],
 "metadata": {
  "kernelspec": {
   "display_name": "Python 3",
   "language": "python",
   "name": "python3"
  },
  "language_info": {
   "codemirror_mode": {
    "name": "ipython",
    "version": 3
   },
   "file_extension": ".py",
   "mimetype": "text/x-python",
   "name": "python",
   "nbconvert_exporter": "python",
   "pygments_lexer": "ipython3",
   "version": "3.6.8"
  },
  "toc": {
   "base_numbering": 1,
   "nav_menu": {},
   "number_sections": false,
   "sideBar": true,
   "skip_h1_title": false,
   "title_cell": "Table of Contents",
   "title_sidebar": "Contents",
   "toc_cell": false,
   "toc_position": {},
   "toc_section_display": true,
   "toc_window_display": false
  },
  "varInspector": {
   "cols": {
    "lenName": 16,
    "lenType": 16,
    "lenVar": 40
   },
   "kernels_config": {
    "python": {
     "delete_cmd_postfix": "",
     "delete_cmd_prefix": "del ",
     "library": "var_list.py",
     "varRefreshCmd": "print(var_dic_list())"
    },
    "r": {
     "delete_cmd_postfix": ") ",
     "delete_cmd_prefix": "rm(",
     "library": "var_list.r",
     "varRefreshCmd": "cat(var_dic_list()) "
    }
   },
   "types_to_exclude": [
    "module",
    "function",
    "builtin_function_or_method",
    "instance",
    "_Feature"
   ],
   "window_display": false
  }
 },
 "nbformat": 4,
 "nbformat_minor": 2
}
